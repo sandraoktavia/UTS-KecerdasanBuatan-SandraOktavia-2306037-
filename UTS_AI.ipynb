{
  "cells": [
    {
      "cell_type": "markdown",
      "metadata": {
        "id": "view-in-github",
        "colab_type": "text"
      },
      "source": [
        "<a href=\"https://colab.research.google.com/github/sandraoktavia/UTS-KecerdasanBuatan-SandraOktavia-2306037-/blob/main/UTS_AI.ipynb\" target=\"_parent\"><img src=\"https://colab.research.google.com/assets/colab-badge.svg\" alt=\"Open In Colab\"/></a>"
      ]
    },
    {
      "cell_type": "markdown",
      "metadata": {
        "id": "mYqgJiZYWtso"
      },
      "source": [
        "##Aturan Logika\n",
        "1. Jika daun menguning dan tanaman layu maka output adalah Hama Wereng\n",
        "2. Jika daun berlubang maka output adalah Hama Ulat\n",
        "3. Jika terdapat bercak hitam\tmaka output adalah Hama Jamur\n",
        "4. Jika daun menguning dan bercak hitam maka output adalah\tHama Virus"
      ]
    },
    {
      "cell_type": "markdown",
      "metadata": {
        "id": "PRlstZBOWMNG"
      },
      "source": [
        "##Aturan logika proposisional:\n",
        "\n",
        "(A ∧ D) → Hama Wereng\n",
        "\n",
        "(C) → Hama Ulat\n",
        "\n",
        "(B) → Hama Jamur\n",
        "\n",
        "(A ∧ B) → Hama Virus"
      ]
    },
    {
      "cell_type": "markdown",
      "metadata": {
        "id": "feAbKgROXhz-"
      },
      "source": [
        "##Pseudocode :\n",
        "Mulai\n",
        "\n",
        "    Tanyakan gejala-gejala\n",
        "    Konversi jawaban menjadi True/False\n",
        "    Jika daun menguning dan tanaman layu:\n",
        "        Output \"Hama Wereng\"\n",
        "    Else jika daun berlubang:\n",
        "        Output \"Hama Ulat\"\n",
        "    Else jika bercak hitam:\n",
        "        Output \"Hama Jamur\"\n",
        "    Else jika daun menguning dan bercak hitam:\n",
        "        Output \"Hama Virus\"\n",
        "   \n"
      ]
    },
    {
      "cell_type": "code",
      "execution_count": null,
      "metadata": {
        "colab": {
          "background_save": true,
          "base_uri": "https://localhost:8080/"
        },
        "id": "CxGuBTqMSMja",
        "outputId": "6a6af624-f56c-46a7-b8d9-c2d5d8dfc687"
      },
      "outputs": [
        {
          "name": "stdout",
          "output_type": "stream",
          "text": [
            "Jawab pertanyaan berikut dengan 'ya' atau 'tidak'.\n"
          ]
        }
      ],
      "source": [
        "def input_gejala():\n",
        "    print(\"Jawab pertanyaan berikut dengan 'ya' atau 'tidak'.\")\n",
        "\n",
        "    daun_menguning = input(\"Apakah daun menguning? (ya/tidak): \").lower() == \"ya\"\n",
        "    bercak_hitam = input(\"Apakah terdapat bercak hitam? (ya/tidak): \").lower() == \"ya\"\n",
        "    daun_berlubang = input(\"Apakah daun berlubang? (ya/tidak): \").lower() == \"ya\"\n",
        "    tanaman_layu = input(\"Apakah tanaman layu? (ya/tidak): \").lower() == \"ya\"\n",
        "\n",
        "    return daun_menguning, bercak_hitam, daun_berlubang, tanaman_layu\n",
        "\n",
        "def deteksi_hama(daun_menguning, bercak_hitam, daun_berlubang, tanaman_layu):\n",
        "    if daun_menguning and tanaman_layu:\n",
        "        return \"Hama Wereng\"\n",
        "    elif daun_berlubang:\n",
        "        return \"Hama Ulat\"\n",
        "    elif bercak_hitam:\n",
        "        return \"Hama Jamur\"\n",
        "    elif daun_menguning and bercak_hitam:\n",
        "        return \"Hama Virus\"\n",
        "    else:\n",
        "        return \"Hama Tidak Diketahui\"\n",
        "\n",
        "# Main program\n",
        "gejala = input_gejala()\n",
        "hasil = deteksi_hama(*gejala)\n",
        "print(\"\\nJenis hama yang terdeteksi:\", hasil)\n"
      ]
    },
    {
      "cell_type": "markdown",
      "metadata": {
        "id": "hhSg6vIWZTIq"
      },
      "source": [
        "##Alur Inferensi\n",
        "1. Input Gejala: Pengguna (petani) menjawab pertanyaan tentang gejala tanaman, seperti:\n",
        "\n",
        "\n",
        "\n",
        "*   Daun menguning (ya/tidak)\n",
        "*   Bercak hitam (ya/tidak)\n",
        "*   Daun berlubang (ya/tidak)\n",
        "*   Tanaman layu (ya/tidak)\n",
        "\n",
        "\n",
        "\n",
        "2. Konversi Jawaban: Jawaban \"ya\" diubah menjadi True dan \"tidak\" diubah menjadi False.\n",
        "\n",
        "3. Penerapan Aturan: Sistem memeriksa aturan yang sudah ditentukan untuk melihat apakah gejala yang dimasukkan cocok dengan salah satu aturan. Misalnya:\n",
        "\n",
        "\n",
        "*   Jika daun menguning dan tanaman layu, maka Hama Wereng.\n",
        "*   Jika daun berlubang, maka Hama Ulat.\n",
        "*   Jika bercak hitam, maka Hama Jamur.\n",
        "*   Jika daun menguning dan bercak hitam, maka Hama Virus.\n",
        "\n",
        "\n",
        "\n",
        "\n",
        "4. Keputusan (Output): Berdasarkan aturan yang cocok, sistem akan memberikan jenis hama yang terdeteksi. Jika tidak ada aturan yang cocok, maka akan muncul pesan \"Hama Tidak Diketahui\""
      ]
    }
  ],
  "metadata": {
    "colab": {
      "provenance": [],
      "authorship_tag": "ABX9TyOSC9QULb3nl1ITM4OHzI+R",
      "include_colab_link": true
    },
    "kernelspec": {
      "display_name": "Python 3",
      "name": "python3"
    },
    "language_info": {
      "name": "python"
    }
  },
  "nbformat": 4,
  "nbformat_minor": 0
}